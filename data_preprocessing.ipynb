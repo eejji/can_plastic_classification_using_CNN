{
 "cells": [
  {
   "cell_type": "code",
   "execution_count": null,
   "id": "03a605d9",
   "metadata": {},
   "outputs": [],
   "source": [
    "import os\n",
    "import scipy\n",
    "import matplotlib.pyplot as plt\n",
    "import numpy as np\n",
    "import tensorflow as tf\n",
    "from tensorflow import keras\n",
    "from tensorflow.keras.preprocessing.image import ImageDataGenerator\n",
    "from tensorflow.keras.preprocessing import image\n",
    "import cv2 as cv\n",
    "\n",
    "labels=['can', 'plastic']"
   ]
  },
  {
   "cell_type": "code",
   "execution_count": null,
   "id": "457ad6ab",
   "metadata": {},
   "outputs": [],
   "source": [
    "tf.test.is_gpu_available()"
   ]
  },
  {
   "cell_type": "code",
   "execution_count": null,
   "id": "d819de38",
   "metadata": {},
   "outputs": [],
   "source": [
    "model = tf.keras.Sequential([\n",
    "    tf.keras.layers.Conv2D(16, (3, 3), activation='relu', input_shape=(256, 256, 3)),\n",
    "    tf.keras.layers.BatchNormalization(),\n",
    "    tf.keras.layers.MaxPooling2D(2, 2),\n",
    "    tf.keras.layers.Dropout(0.2),\n",
    "\n",
    "    tf.keras.layers.Conv2D(32, (3, 3), activation='relu'),\n",
    "    tf.keras.layers.BatchNormalization(),\n",
    "    tf.keras.layers.MaxPooling2D(2, 2),\n",
    "    tf.keras.layers.Dropout(0.2),\n",
    "\n",
    "\n",
    "    tf.keras.layers.Conv2D(64, (3, 3), activation='relu'),\n",
    "    tf.keras.layers.BatchNormalization(),\n",
    "    tf.keras.layers.MaxPooling2D(2, 2),\n",
    "    tf.keras.layers.Dropout(0.2),\n",
    "\n",
    "    tf.keras.layers.Conv2D(128, (3, 3), activation='relu'),\n",
    "    tf.keras.layers.BatchNormalization(),\n",
    "    tf.keras.layers.MaxPooling2D(2, 2),\n",
    "    tf.keras.layers.Dropout(0.2),\n",
    "\n",
    "    #tf.keras.layers.Conv2D(256, (3, 3), activation='relu'),\n",
    "    #tf.keras.layers.BatchNormalization(),\n",
    "    #tf.keras.layers.MaxPooling2D(2, 2),\n",
    "    #tf.keras.layers.Dropout(0.2),\n",
    "\n",
    "    tf.keras.layers.Flatten(),  \n",
    "    tf.keras.layers.Dense(2, activation='softmax'),\n",
    "])\n",
    "model.summary()\n",
    "\n",
    "model.compile(loss='categorical_crossentropy', optimizer=tf.keras.optimizers.Adam(learning_rate=0.0001), metrics=['accuracy'])\n"
   ]
  },
  {
   "cell_type": "code",
   "execution_count": null,
   "id": "e54ab671",
   "metadata": {},
   "outputs": [],
   "source": [
    "from keras.preprocessing.image import ImageDataGenerator\n",
    "\n",
    "train_datagen = ImageDataGenerator(\n",
    "    rescale=1./255,\n",
    "    shear_range=0.1,\n",
    "    zoom_range=0.1,\n",
    "    width_shift_range=0.1,\n",
    "    height_shift_range=0.1,\n",
    "    horizontal_flip=True,\n",
    "    vertical_flip=True,\n",
    "    validation_split=0.1\n",
    ")\n",
    "\n",
    "test_datagen = ImageDataGenerator(\n",
    "    rescale=1./255,\n",
    "    validation_split=0.1\n",
    ")\n",
    "\n",
    "train_generator = train_datagen.flow_from_directory(\n",
    "    'C:/data/train',\n",
    "    target_size=(256, 256),\n",
    "    batch_size=16,\n",
    "    class_mode='categorical',\n",
    "    subset='training',\n",
    "    shuffle=True,\n",
    "    seed=0\n",
    ")\n",
    "\n",
    "validation_generator = test_datagen.flow_from_directory(\n",
    "    'C:/data/train',\n",
    "    target_size=(256, 256),\n",
    "    batch_size=16,\n",
    "    class_mode='categorical',\n",
    "    subset='validation',\n",
    "    shuffle=True,\n",
    "    seed=0\n",
    ")"
   ]
  },
  {
   "cell_type": "markdown",
   "id": "888871b2",
   "metadata": {},
   "source": [
    "\n",
    "checkpoint_path = 'C:/Users/jihun/Classification_using_cnn/model'\n",
    "\n",
    "class myCallback(tf.keras.callbacks.Callback):\n",
    "    def on_epoch_end(self, epoch, logs={}):\n",
    "        if(logs.get('loss')<0.1):\n",
    "            print(\"\\nReached 90% accuracy so cancelling training!\")\n",
    "            self.model.stop_training = True\n",
    "\n",
    "    def modelcheckpoint(epoch, logs={}):\n",
    "        ModelCheckpoint(filepath=checkpoint_path, save_weights_only=True,\n",
    "                        save_best_only=True,\n",
    "                        monitor='val_loss',\n",
    "                        mode='min',\n",
    "                        verbose=1)\n",
    "        return checkpoint_callback\n",
    "\n",
    "checkpoint = modelcheckpoint()\n",
    "callbacks = myCallback()"
   ]
  },
  {
   "cell_type": "code",
   "execution_count": null,
   "id": "7f3d6f01",
   "metadata": {},
   "outputs": [],
   "source": [
    "import tensorflow as tf\n",
    "checkpoint_path = 'C:/Users/jihun/Classification_using_cnn/model/check.ckpt'\n",
    "\n",
    "cp_callback = tf.keras.callbacks.ModelCheckpoint(checkpoint_path,\n",
    "                                                verbose=1,\n",
    "                                                save_weight_only=True,\n",
    "                                                save_freq=5)"
   ]
  },
  {
   "cell_type": "code",
   "execution_count": null,
   "id": "d0a6e9b4",
   "metadata": {
    "scrolled": true
   },
   "outputs": [],
   "source": [
    "history = model.fit(train_generator, epochs=150, verbose=1, validation_data=validation_generator)"
   ]
  },
  {
   "cell_type": "code",
   "execution_count": null,
   "id": "85d71eea",
   "metadata": {},
   "outputs": [],
   "source": [
    "model.save('C:/Users/jihun/Classification_using_cnn/model/my_model_img316_data4000_epoch150.h5')"
   ]
  },
  {
   "cell_type": "code",
   "execution_count": null,
   "id": "2f5c20a2",
   "metadata": {},
   "outputs": [],
   "source": [
    "model.save(modelcheckpoint())"
   ]
  },
  {
   "cell_type": "code",
   "execution_count": null,
   "id": "0348cbbb",
   "metadata": {},
   "outputs": [],
   "source": [
    "avg_ac = history.history['accuracy']\n",
    "avg=0\n",
    "for i in range(len(avg_ac)):\n",
    "    avg += avg_ac[i]\n",
    "print(avg/10)"
   ]
  },
  {
   "cell_type": "code",
   "execution_count": null,
   "id": "a3690e05",
   "metadata": {},
   "outputs": [],
   "source": [
    "train_acc = history.history['accuracy']\n",
    "val_acc = history.history['val_accuracy']\n",
    "train_loss = history.history['loss']\n",
    "val_loss = history.history['val_loss']\n",
    "\n",
    "epochs = range(1, len(train_acc) + 1)\n",
    "\n",
    "plt.plot(epochs, train_acc, 'b*-', label = 'Training accuracy')\n",
    "plt.plot(epochs, val_acc, 'r', label = 'Validation accuracy')\n",
    "plt.title('Training and validation accuracy')\n",
    "plt.legend()\n",
    "\n",
    "plt.figure()\n",
    "\n",
    "plt.plot(epochs, train_loss, 'b*-', label = 'Training loss')\n",
    "plt.plot(epochs, val_loss, 'r', label = 'Validation loss')\n",
    "plt.title('Training and validation loss')\n",
    "plt.legend()\n",
    "\n",
    "plt.show()"
   ]
  },
  {
   "cell_type": "code",
   "execution_count": null,
   "id": "3fab7e05",
   "metadata": {},
   "outputs": [],
   "source": [
    "test_x, test_y = validation_generator.__getitem__(1)\n",
    "# test_x is used to train the data\n",
    "# test_y refers to the actual answer of the testing set data\n",
    "# preds refers to the predicted class\n",
    "preds = model.predict(test_x)\n",
    "\n",
    "plt.figure(figsize=(20, 20))\n",
    "for i in range(16):\n",
    "    plt.subplot(4, 4, i+1)\n",
    "    plt.title('pred:%s / truth:%s' % (labels[np.argmax(preds[i])], labels[np.argmax(test_y[i])]))\n",
    "    plt.imshow(test_x[i])"
   ]
  },
  {
   "cell_type": "code",
   "execution_count": null,
   "id": "183c41d8",
   "metadata": {},
   "outputs": [],
   "source": [
    "print(\"-- Evaluate --\")\n",
    "scores = model.evaluate_generator(validation_generator, steps=20)\n",
    "print(\"%s: %.2f%%\" %(model.metrics_names[1], scores[1]*100))"
   ]
  },
  {
   "cell_type": "code",
   "execution_count": null,
   "id": "bc42375b",
   "metadata": {},
   "outputs": [],
   "source": [
    "history = model.fit(train_generator, epochs=300, verbose=1, validation_data=validation_generator)"
   ]
  },
  {
   "cell_type": "code",
   "execution_count": null,
   "id": "74fcdd53",
   "metadata": {},
   "outputs": [],
   "source": [
    "model.save('C:/Users/jihun/Classification_using_cnn/model/my_model_img316_data4000_epoch300.h5')"
   ]
  },
  {
   "cell_type": "code",
   "execution_count": null,
   "id": "22db3a84",
   "metadata": {},
   "outputs": [],
   "source": [
    "print(\"-- Evaluate --\")\n",
    "scores = model.evaluate_generator(validation_generator, steps=20)\n",
    "print(\"%s: %.2f%%\" %(model.metrics_names[1], scores[1]*100))"
   ]
  },
  {
   "cell_type": "code",
   "execution_count": null,
   "id": "dbe9af70",
   "metadata": {},
   "outputs": [],
   "source": [
    "train_acc = history.history['accuracy']\n",
    "val_acc = history.history['val_accuracy']\n",
    "train_loss = history.history['loss']\n",
    "val_loss = history.history['val_loss']\n",
    "\n",
    "epochs = range(1, len(train_acc) + 1)\n",
    "\n",
    "plt.plot(epochs, train_acc, 'b*-', label = 'Training accuracy')\n",
    "plt.plot(epochs, val_acc, 'r', label = 'Validation accuracy')\n",
    "plt.title('Training and validation accuracy')\n",
    "plt.legend()\n",
    "\n",
    "plt.figure()\n",
    "\n",
    "plt.plot(epochs, train_loss, 'b*-', label = 'Training loss')\n",
    "plt.plot(epochs, val_loss, 'r', label = 'Validation loss')\n",
    "plt.title('Training and validation loss')\n",
    "plt.legend()\n",
    "\n",
    "plt.show()"
   ]
  },
  {
   "cell_type": "code",
   "execution_count": null,
   "id": "6ee94249",
   "metadata": {},
   "outputs": [],
   "source": [
    "test_x, test_y = validation_generator.__getitem__(1)\n",
    "# test_x is used to train the data\n",
    "# test_y refers to the actual answer of the testing set data\n",
    "# preds refers to the predicted class\n",
    "preds = model.predict(test_x)\n",
    "\n",
    "plt.figure(figsize=(20, 20))\n",
    "for i in range(16):\n",
    "    plt.subplot(4, 4, i+1)\n",
    "    plt.title('pred:%s / truth:%s' % (labels[np.argmax(preds[i])], labels[np.argmax(test_y[i])]))\n",
    "    plt.imshow(test_x[i])"
   ]
  },
  {
   "cell_type": "code",
   "execution_count": null,
   "id": "e037c121",
   "metadata": {},
   "outputs": [],
   "source": [
    "import os\n",
    "test_path = 'C:/Users/jihun/Classification_using_cnn/test_img'\n",
    "file = os.listdir(test_path)"
   ]
  },
  {
   "cell_type": "code",
   "execution_count": null,
   "id": "4a214c34",
   "metadata": {},
   "outputs": [],
   "source": [
    "test_dir = 'C:/Users/jihun/Classification_using_cnn/test_img'  # 테스트 이미지 폴더 경로\n",
    "target_size = (256, 256)  # 이미지 크기\n",
    "test_class=[]\n",
    "pred=[]\n",
    "class_labels = {0: 'can', 1: 'plastic'}  # 클래스 레이블과 인덱스 매핑\n",
    "i=0\n",
    "for filename in os.listdir(test_dir):\n",
    "    if filename.endswith('.jpg'):\n",
    "        image_path = os.path.join(test_dir, filename)\n",
    "        img = image.load_img(image_path, target_size=target_size)\n",
    "        img_array = image.img_to_array(img)\n",
    "        img_array = np.expand_dims(img_array, axis=0)\n",
    "        img_array = img_array / 255.0  # 이미지 정규화\n",
    "\n",
    "        # 예측 수행\n",
    "        predictions = model.predict(img_array)\n",
    "\n",
    "        # 예측 결과 해석\n",
    "        predicted_class_index = np.argmax(predictions[0])\n",
    "        predicted_class_label = class_labels[predicted_class_index]\n",
    "\n",
    "        # 실제 클래스 레이블\n",
    "        actual_class_label = filename.split('.')[0]\n",
    "        if actual_class_label[0] == 'c' :\n",
    "            test_class.append(0)\n",
    "        elif actual_class_label[0] == 'p':\n",
    "            test_class.append(1)\n",
    "\n",
    "        if predicted_class_label[0] == 'c':\n",
    "            pred.append(0)\n",
    "        elif predicted_class_label[0] =='p':\n",
    "            pred.append(1)\n",
    "      \n",
    "        # 결과 표시\n",
    "        print('이미지:', filename)\n",
    "        print('실제 클래스:', actual_class_label)\n",
    "        print('예측된 클래스:', predicted_class_label)\n",
    "        print()\n",
    "\n",
    "        # 이미지와 예측 결과 표시\n",
    "        plt.imshow(img)\n",
    "        plt.xticks([])\n",
    "        plt.yticks([])\n",
    "        plt.title('Actual: {}   Pred: {}'.format(actual_class_label, predicted_class_label))\n",
    "        plt.show()"
   ]
  },
  {
   "cell_type": "code",
   "execution_count": null,
   "id": "9bcc9b54",
   "metadata": {},
   "outputs": [],
   "source": [
    "import numpy as np\n",
    "import matplotlib.pyplot as plt\n",
    "\n",
    "# test_class와 pred 리스트를 numpy 배열로 변환합니다.\n",
    "test_class = np.array(test_class)\n",
    "pred = np.array(pred)\n",
    "\n",
    "# 정확도를 계산합니다.\n",
    "accuracy = np.mean(test_class == pred)\n",
    "print('정확도: {:.2%}'.format(accuracy))\n",
    "\n",
    "# 혼동 행렬을 생성합니다.\n",
    "unique_labels = np.unique(np.concatenate((test_class, pred)))\n",
    "cm = np.zeros((len(unique_labels), len(unique_labels)), dtype=int)\n",
    "\n",
    "for true_label, predicted_label in zip(test_class, pred):\n",
    "    cm[true_label][predicted_label] += 1\n",
    "\n",
    "# 혼동 행렬을 출력합니다.\n",
    "print('혼동 행렬:')\n",
    "print(cm)\n",
    "\n",
    "# 혼동 행렬을 시각화합니다.\n",
    "plt.figure(figsize=(8, 6))\n",
    "plt.imshow(cm, interpolation='nearest', cmap=plt.cm.Blues)\n",
    "\n",
    "# 사각형 안에 숫자와 레이블을 표시합니다.\n",
    "thresh = cm.max() / 2.\n",
    "for i in range(len(unique_labels)):\n",
    "    for j in range(len(unique_labels)):\n",
    "        plt.text(j, i, cm[i, j], ha='center', va='center', color='white' if cm[i, j] > thresh else 'black')\n",
    "        plt.text(j, i+0.2, 'Pred: {}'.format(unique_labels[j]), ha='center', va='center', color='black', fontsize=8)\n",
    "        plt.text(j, i-0.2, 'True: {}'.format(unique_labels[i]), ha='center', va='center', color='black', fontsize=8)\n",
    "\n",
    "plt.title('confusion matrix')\n",
    "plt.colorbar()\n",
    "tick_marks = np.arange(len(unique_labels))\n",
    "plt.xticks(tick_marks, unique_labels)\n",
    "plt.yticks(tick_marks, unique_labels)\n",
    "plt.xlabel('predict')\n",
    "plt.ylabel('true')\n",
    "plt.tight_layout()\n",
    "plt.show()"
   ]
  }
 ],
 "metadata": {
  "kernelspec": {
   "display_name": "gpu",
   "language": "python",
   "name": "ecg"
  },
  "language_info": {
   "codemirror_mode": {
    "name": "ipython",
    "version": 3
   },
   "file_extension": ".py",
   "mimetype": "text/x-python",
   "name": "python",
   "nbconvert_exporter": "python",
   "pygments_lexer": "ipython3",
   "version": "3.7.16"
  }
 },
 "nbformat": 4,
 "nbformat_minor": 5
}
